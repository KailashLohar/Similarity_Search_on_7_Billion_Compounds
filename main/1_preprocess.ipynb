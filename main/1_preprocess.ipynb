{
 "cells": [
  {
   "cell_type": "markdown",
   "id": "be8fec86-a022-46a7-b9a2-58f8376e9781",
   "metadata": {},
   "source": [
    "<div style=\"display: flex; align-items: center;\">\n",
    "    <span style=\"font-size: 24px; color: #422057FF; font-weight: 500;\">Index_based Nearest_Neighbour Search</span>\n",
    "    <img src=\"logo.svg\" style=\"height: 50px; width: auto; margin-left: auto;\"/>\n",
    "</div>"
   ]
  },
  {
   "cell_type": "code",
   "execution_count": null,
   "id": "36ef4197-811b-4eab-8173-f24a28b47994",
   "metadata": {
    "tags": []
   },
   "outputs": [],
   "source": [
    "import os\n",
    "import bz2\n",
    "import time\n",
    "import glob\n",
    "import shutil\n",
    "import subprocess\n",
    "import pandas as pd"
   ]
  },
  {
   "cell_type": "markdown",
   "id": "90651aef-243c-4196-80df-7f186b6feecc",
   "metadata": {},
   "source": [
    "<div style=\"background-color:#4B6300; color:#F0E5CF; padding: 1px; border-radius: 5px;\">\n",
    "    <h2 style=\"font-size: 16px; margin-left: 10px;\"> Make a small subset\n",
    " </h2>\n",
    "</div>"
   ]
  },
  {
   "cell_type": "code",
   "execution_count": null,
   "id": "72a32b7e-0d79-410e-b8a4-47892b0c6198",
   "metadata": {
    "tags": []
   },
   "outputs": [],
   "source": [
    "os.makedirs(\"simulation_files\", exist_ok=True)\n",
    "\n",
    "# total_data = 'Enamine_REAL_HAC_11_21_666M_CXSMILES.cxsmiles.bz2'\n",
    "# download from https://enamine.net/compound-collections/real-compounds/real-database\n",
    "\n",
    "total_data = 'Enamine_REAL_HAC_11_21_1M_CXSMILES.cxsmiles.bz2'\n",
    "subset_data = 'simulation_files/Enamine_REAL_HAC_11_21_1M_CXSMILES.cxsmiles.bz2'\n",
    "\n",
    "num_lines = 1000001\n",
    "with bz2.open(total_data, 'rt') as input_file, bz2.open(subset_data, 'wt') as output_file:\n",
    "    for i, line in enumerate(input_file):\n",
    "        if i < num_lines:\n",
    "            output_file.write(line)\n",
    "        else:\n",
    "            break\n",
    "\n",
    "print(\"\\033[1m\\033[34mSubset created successfully\\033[0m\")"
   ]
  },
  {
   "cell_type": "markdown",
   "id": "6b9c9a3e-a4e9-43ba-b928-3b1849764c7c",
   "metadata": {},
   "source": [
    "<div style=\"background-color:#4B6300; color:#F0E5CF; padding: 1px; border-radius: 5px;\">\n",
    "    <h2 style=\"font-size: 16px; margin-left: 10px;\"> Convert bz2 to gz format\n",
    " </h2>\n",
    "</div>"
   ]
  },
  {
   "cell_type": "code",
   "execution_count": null,
   "id": "b74a5f4a-534e-47b7-ae42-eb2bdf189662",
   "metadata": {
    "tags": []
   },
   "outputs": [],
   "source": [
    "input_file = subset_data\n",
    "gz_csv = 'simulation_files/Enamine_REAL_HAC_11_21_1M_CXSMILES.gz'\n",
    "\n",
    "start_time = time.time()\n",
    "\n",
    "subprocess.run(['spark-submit', '/home/z_main_files/bz2_to_csv.py', input_file, gz_csv], stdout=subprocess.PIPE, stderr=subprocess.PIPE)\n",
    "os.remove(input_file)\n",
    "\n",
    "end_time = time.time()\n",
    "elapsed_time_minutes = round((end_time - start_time) / 60, 2)\n",
    "\n",
    "os.makedirs(\"simulation_files\", exist_ok=True)\n",
    "file_path = os.path.join(\"simulation_files\", \"bz2_to_csv_time.txt\")\n",
    "with open(file_path, \"w\") as file:\n",
    "    file.write(f\"{elapsed_time_minutes} minutes\")\n",
    "\n",
    "print(f\"\\033[1m\\033[34mTotal execution time (minutes): \\033[91m{elapsed_time_minutes}\\033[0m\")"
   ]
  },
  {
   "cell_type": "markdown",
   "id": "ae4be6e0-5ed0-458e-a481-385e7ee8b1e0",
   "metadata": {},
   "source": [
    "<div style=\"background-color:#4B6300; color:#F0E5CF; padding: 1px; border-radius: 5px;\">\n",
    "    <h2 style=\"font-size: 16px; margin-left: 10px;\"> Check the file\n",
    " </h2>\n",
    "</div>"
   ]
  },
  {
   "cell_type": "code",
   "execution_count": null,
   "id": "d4e94285-c124-487e-8808-bf6b9568fc10",
   "metadata": {
    "tags": []
   },
   "outputs": [],
   "source": [
    "def process_files(folder_name, file_pattern='*.csv.gz'):\n",
    "    temp_file_name = folder_name + '1'\n",
    "    search_pattern = os.path.join(folder_name, file_pattern)\n",
    "    file_list = glob.glob(search_pattern)\n",
    "    source_file_path = file_list[0]\n",
    "    temp_file_path = os.path.join('.', temp_file_name)\n",
    "    shutil.copy2(source_file_path, temp_file_path)\n",
    "    shutil.rmtree(folder_name)\n",
    "    final_file_path = os.path.join('.', folder_name)\n",
    "    os.rename(temp_file_path, final_file_path)\n",
    "    return final_file_path\n",
    "\n",
    "folder_name = gz_csv\n",
    "final_file_path = process_files(folder_name)\n",
    "print(\"\\033[1m\\033[34mFile processed successfully\\033[0m\")"
   ]
  },
  {
   "cell_type": "code",
   "execution_count": null,
   "id": "4fd26d04-5851-446d-b7cc-2d457511a1f7",
   "metadata": {
    "tags": []
   },
   "outputs": [],
   "source": [
    "file_path = gz_csv\n",
    "\n",
    "df_check = pd.read_csv(file_path, compression='gzip', sep=',')\n",
    "display(df_check.tail())\n",
    "print(df_check.shape)"
   ]
  }
 ],
 "metadata": {
  "kernelspec": {
   "display_name": "Python 3 (ipykernel)",
   "language": "python",
   "name": "python3"
  },
  "language_info": {
   "codemirror_mode": {
    "name": "ipython",
    "version": 3
   },
   "file_extension": ".py",
   "mimetype": "text/x-python",
   "name": "python",
   "nbconvert_exporter": "python",
   "pygments_lexer": "ipython3",
   "version": "3.8.19"
  }
 },
 "nbformat": 4,
 "nbformat_minor": 5
}
