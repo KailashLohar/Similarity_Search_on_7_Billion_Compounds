{
 "cells": [
  {
   "cell_type": "markdown",
   "id": "9e90f402-33d1-41c3-b25d-e16c181c8fa6",
   "metadata": {},
   "source": [
    "<div style=\"display: flex; align-items: center;\">\n",
    "    <span style=\"font-size: 24px; color: #422057FF; font-weight: 500;\">Index_based Nearest_Neighbour Search</span>\n",
    "    <img src=\"logo.svg\" style=\"height: 50px; width: auto; margin-left: auto;\"/>\n",
    "</div>"
   ]
  },
  {
   "cell_type": "code",
   "execution_count": null,
   "id": "2a74c9b1-da7a-48e2-9a5a-b7d1881b8b11",
   "metadata": {
    "tags": []
   },
   "outputs": [],
   "source": [
    "import os\n",
    "import bz2\n",
    "import csv\n",
    "import zlib\n",
    "import time\n",
    "import faiss\n",
    "import pickle\n",
    "import psycopg2\n",
    "import subprocess\n",
    "import numpy as np\n",
    "import pandas as pd\n",
    "\n",
    "from rdkit import Chem\n",
    "from rdkit.Chem import AllChem, DataStructs, rdFingerprintGenerator"
   ]
  },
  {
   "cell_type": "markdown",
   "id": "6aaa56eb-27c1-4db8-a030-48ef2ffe4b53",
   "metadata": {
    "tags": []
   },
   "source": [
    "<div style=\"background-color:#4B6300; color:#F0E5CF; padding: 1px; border-radius: 5px;\">\n",
    "    <h2 style=\"font-size: 16px; margin-left: 10px;\"> Spark-Based Fingerprint Generation and Database Insertion\n",
    " </h2>\n",
    "</div>"
   ]
  },
  {
   "cell_type": "code",
   "execution_count": null,
   "id": "0433c938-01f4-4c2f-9823-2a04b97e990e",
   "metadata": {
    "tags": []
   },
   "outputs": [],
   "source": [
    "def generate_database(input_file_path, batch_size):\n",
    "    os.makedirs(\"simulation_files\", exist_ok=True)\n",
    "    db_out = os.path.join(\"simulation_files\", \"db_out.txt\")\n",
    "    db_time = os.path.join(\"simulation_files\", \"db_time.txt\")\n",
    "\n",
    "    start_time = time.time()\n",
    "\n",
    "    with open(db_out, \"w\") as file:\n",
    "        subprocess.run([\"spark-submit\", \"--jars\", \"/spark/jars/postgresql-42.2.27.jar\", \"/home/z_main_files/generate_db.py\", input_file_path, str(batch_size)], stdout=file, stderr=subprocess.PIPE)\n",
    "\n",
    "    end_time = time.time()\n",
    "    elapsed_time_minutes = round((end_time - start_time) / 60, 2)\n",
    "    with open(db_time, \"w\") as file:\n",
    "        file.write(f\"{elapsed_time_minutes} minutes\")\n",
    "\n",
    "batch_size = 100000\n",
    "generate_database('simulation_files/Enamine_REAL_HAC_11_21_1M_CXSMILES.gz', batch_size)"
   ]
  },
  {
   "cell_type": "markdown",
   "id": "f7f66bae-4462-47d0-9471-e6356555cab1",
   "metadata": {},
   "source": [
    "To verify the database and count the number of rows, follow these steps:\n",
    "\n",
    "1. Go to the Enamine folder and enter the PostgreSQL container: ```make enter-pg-container```\n",
    "2. Connect to the PostgreSQL database: ```psql -U kailash fingerprint_db;```\n",
    "3. Count the number of rows in the fingerprints_table: ```SELECT COUNT(*) FROM fingerprints_table;```"
   ]
  },
  {
   "cell_type": "markdown",
   "id": "66330832-2f92-4a8c-8b78-99d0463a62b8",
   "metadata": {},
   "source": [
    "<div style=\"background-color:#4B6300; color:#F0E5CF; padding: 1px; border-radius: 5px;\">\n",
    "    <h2 style=\"font-size: 16px; margin-left: 10px;\"> Batch Processing and Indexing with Faiss\n",
    " </h2>\n",
    "</div>"
   ]
  },
  {
   "cell_type": "code",
   "execution_count": null,
   "id": "8662aa1c-d0b3-4271-8401-54ea835d2593",
   "metadata": {
    "tags": []
   },
   "outputs": [],
   "source": [
    "def generate_index(batch_size):\n",
    "    os.makedirs(\"simulation_files\", exist_ok=True)\n",
    "    index_out   = os.path.join(\"simulation_files\", \"index_out.txt\")\n",
    "    index_time  = os.path.join(\"simulation_files\", \"index_time.txt\")\n",
    "\n",
    "    start_time = time.time()\n",
    "\n",
    "    with open(index_out, \"w\") as file:\n",
    "        subprocess.run([\"spark-submit\", \"/home/z_main_files/generate_index.py\", str(batch_size)], stdout=file, stderr=subprocess.PIPE)\n",
    "\n",
    "    end_time = time.time()\n",
    "    elapsed_time_minutes = round((end_time - start_time) / 60, 2)\n",
    "    with open(index_time, \"w\") as file:\n",
    "        file.write(f\"{elapsed_time_minutes} minutes\")\n",
    "        \n",
    "batch_size = 10000\n",
    "generate_index(batch_size)"
   ]
  },
  {
   "cell_type": "code",
   "execution_count": null,
   "id": "e73afd44-3cb4-4781-a76d-b7b2a575d58d",
   "metadata": {
    "tags": []
   },
   "outputs": [],
   "source": [
    "index = faiss.read_index('simulation_files/batch_indexes/lsh_index_batch_1.faiss')\n",
    "print(f\"Number of vectors: {round(index.ntotal/1e6, 1)} million\")\n",
    "print(f\"Dimensionality of vectors: {index.d}\")"
   ]
  },
  {
   "cell_type": "markdown",
   "id": "4c781795-c5e3-4f1b-b576-13ae2eeb698e",
   "metadata": {},
   "source": [
    "<div style=\"background-color:#4B6300; color:#F0E5CF; padding: 1px; border-radius: 5px;\">\n",
    "    <h2 style=\"font-size: 16px; margin-left: 10px;\"> Check the Streamlit output\n",
    " </h2>\n",
    "</div>"
   ]
  },
  {
   "cell_type": "code",
   "execution_count": null,
   "id": "4c1309e2-6bc6-4543-a3ec-b1c480fba3b9",
   "metadata": {
    "tags": []
   },
   "outputs": [],
   "source": [
    "import os\n",
    "import time\n",
    "import faiss\n",
    "import psycopg2\n",
    "import numpy as np\n",
    "import pandas as pd\n",
    "from rdkit import Chem\n",
    "from rdkit.Chem import rdFingerprintGenerator, DataStructs\n",
    "from concurrent.futures import ProcessPoolExecutor, as_completed\n",
    "\n",
    "def query_index(file_path, dense_fp, k):\n",
    "    lsh_index = faiss.read_index(file_path)\n",
    "    _, query_indices = lsh_index.search(dense_fp.reshape(1, -1), k)\n",
    "    return query_indices[0]\n",
    "\n",
    "def compute_tanimoto_similarity(query_mol, mol):\n",
    "    gen = rdFingerprintGenerator.GetMorganGenerator(radius=2, fpSize=1024)\n",
    "    fp1 = gen.GetFingerprint(query_mol)\n",
    "    fp2 = gen.GetFingerprint(mol)\n",
    "    tanimoto = DataStructs.TanimotoSimilarity(fp1, fp2)\n",
    "    return round(tanimoto, 4)\n",
    "\n",
    "def process_single_index(file_path, dense_fp, k, query_mol, cursor, batch_num, total_batches):\n",
    "    step_start_time = time.time()\n",
    "    \n",
    "    query_indices = query_index(file_path, dense_fp, k)\n",
    "    if query_indices.size > 0:\n",
    "        query_indices = [int(idx) for idx in query_indices]\n",
    "        placeholders = ','.join(['%s'] * len(query_indices))\n",
    "        cursor.execute(f'SELECT id, smiles FROM fingerprints_table WHERE db_index IN ({placeholders})', tuple(query_indices))\n",
    "        results = cursor.fetchall()\n",
    "\n",
    "        df = pd.DataFrame(results, columns=['id', 'smiles'])\n",
    "        df['Tanimoto_similarity'] = df['smiles'].apply(lambda x: compute_tanimoto_similarity(query_mol, Chem.MolFromSmiles(x)))\n",
    "        df = df.sort_values(by='Tanimoto_similarity', ascending=False).head(k).reset_index(drop=True)\n",
    "        df = df.rename(columns={'id': 'ID', 'smiles': 'SMILES', 'Tanimoto_similarity': 'Score'})\n",
    "        \n",
    "        step_end_time = time.time()\n",
    "        total_step_time = int(step_end_time - step_start_time)\n",
    "        print(f\"Processed batch {batch_num}/{total_batches} in {total_step_time} s\")\n",
    "        \n",
    "        return df\n",
    "    return pd.DataFrame()\n",
    "\n",
    "def process_similarity_query(query_smiles: str, k: int, conn):\n",
    "    query_mol = Chem.MolFromSmiles(query_smiles)\n",
    "    gen = rdFingerprintGenerator.GetMorganGenerator(radius=2, fpSize=1024)\n",
    "    query_fp = gen.GetFingerprint(query_mol)\n",
    "\n",
    "    dense_fp = np.zeros((1024,), dtype=np.float32)\n",
    "    Chem.DataStructs.ConvertToNumpyArray(query_fp, dense_fp)\n",
    "\n",
    "    index_files = [os.path.join('simulation_files/batch_indexes', f) for f in os.listdir('simulation_files/batch_indexes') if f.endswith('.faiss')]\n",
    "    total_batches = len(index_files)\n",
    "    all_results = pd.DataFrame()\n",
    "\n",
    "    with conn.cursor() as cursor:\n",
    "        for batch_num, file_path in enumerate(index_files, start=1):\n",
    "            result = process_single_index(file_path, dense_fp, k, query_mol, cursor, batch_num, total_batches)\n",
    "            if not result.empty:\n",
    "                all_results = pd.concat([all_results, result], ignore_index=True)\n",
    "\n",
    "    return all_results\n",
    "\n",
    "query_smiles = \"Cc1cnc2c(cccc2c1)S(=O)(=O)N1CCN(CC1)C(=O)Nc1ccc(F)cc1\"\n",
    "k = 20\n",
    "\n",
    "with psycopg2.connect(host=\"db\", dbname=\"fingerprint_db\", user=\"kailash\", password=\"enamine\", port=5432) as conn:\n",
    "    overall_start_time = time.time()\n",
    "    all_results = process_similarity_query(query_smiles, k, conn)\n",
    "    all_results = all_results.sort_values(by='Score', ascending=False).head(k).reset_index(drop=True)\n",
    "    all_results.to_csv('simulation_files/vector_similarity_results.csv', index=False)\n",
    "    \n",
    "    overall_end_time = time.time()\n",
    "    elapsed_time = overall_end_time - overall_start_time\n",
    "\n",
    "    print(f\"Top {k} Similar Compounds\")\n",
    "    display(all_results)\n",
    "    print(f\"Total Execution Time: {elapsed_time:.2f} seconds\")"
   ]
  },
  {
   "cell_type": "markdown",
   "id": "53bb3477-2031-451a-be0e-5c9f4032afdc",
   "metadata": {},
   "source": [
    "<div style=\"background-color:#4B6300; color:#F0E5CF; padding: 1px; border-radius: 5px;\">\n",
    "    <h2 style=\"font-size: 16px; margin-left: 10px;\"> Verify the output\n",
    " </h2>\n",
    "</div>"
   ]
  },
  {
   "cell_type": "code",
   "execution_count": null,
   "id": "7e58cfba-45da-401c-8169-6f477e6b4511",
   "metadata": {
    "tags": []
   },
   "outputs": [],
   "source": [
    "df = pd.read_csv(\"simulation_files/vector_similarity_results.csv\")\n",
    "\n",
    "gen = rdFingerprintGenerator.GetMorganGenerator(radius=2, fpSize=1024) \n",
    "\n",
    "def compute_tanimoto_similarity(query_mol, mol):\n",
    "    fp1 = gen.GetFingerprint(query_mol)\n",
    "    fp2 = gen.GetFingerprint(mol)\n",
    "    tanimoto = DataStructs.TanimotoSimilarity(fp1, fp2)\n",
    "    return round(tanimoto, 4)\n",
    "\n",
    "query_smiles = \"Cc1cnc2c(cccc2c1)S(=O)(=O)N1CCN(CC1)C(=O)Nc1ccc(F)cc1\"\n",
    "query_mol = Chem.MolFromSmiles(query_smiles)\n",
    "\n",
    "df['Tanimoto_similarity'] = df['SMILES'].apply(lambda x: compute_tanimoto_similarity(query_mol, Chem.MolFromSmiles(x)))\n",
    "df = df.sort_values(by='Tanimoto_similarity', ascending=False).reset_index(drop=True)\n",
    "display(df.head(20))\n",
    "print(df.shape)"
   ]
  }
 ],
 "metadata": {
  "kernelspec": {
   "display_name": "Python 3 (ipykernel)",
   "language": "python",
   "name": "python3"
  },
  "language_info": {
   "codemirror_mode": {
    "name": "ipython",
    "version": 3
   },
   "file_extension": ".py",
   "mimetype": "text/x-python",
   "name": "python",
   "nbconvert_exporter": "python",
   "pygments_lexer": "ipython3",
   "version": "3.8.19"
  }
 },
 "nbformat": 4,
 "nbformat_minor": 5
}
